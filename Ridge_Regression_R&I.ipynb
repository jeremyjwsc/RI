{
 "cells": [
  {
   "cell_type": "markdown",
   "metadata": {},
   "source": [
    "# Ridge Regression (gradient descent) - R&I"
   ]
  },
  {
   "cell_type": "markdown",
   "metadata": {},
   "source": [
    "We will:\n",
    "* Computing the derivative of the regression weights by single features\n",
    "* Find the gradient descent function to compute the regression weights by initial weight vector, step size, tolerance, and L2 penalty (regularization)."
   ]
  },
  {
   "cell_type": "code",
   "execution_count": 1,
   "metadata": {},
   "outputs": [],
   "source": [
    "import pandas as pd\n",
    "import numpy as np\n",
    "import matplotlib.pyplot as plt"
   ]
  },
  {
   "cell_type": "markdown",
   "metadata": {},
   "source": [
    "# Load the house sales dataset\n",
    "\n",
    "Dataset is from house sales in King County, the region where the city of Seattle, WA is located."
   ]
  },
  {
   "cell_type": "code",
   "execution_count": 2,
   "metadata": {},
   "outputs": [],
   "source": [
    "dtype_dict = {'bathrooms':float, 'waterfront':int,\n",
    "              'sqft_above':int, 'sqft_living15':float, \n",
    "              'grade':int, 'yr_renovated':int, 'price':float, \n",
    "              'bedrooms':float, 'zipcode':str, 'long':float, \n",
    "              'sqft_lot15':float, 'sqft_living':float, 'floors':str,\n",
    "              'condition':int, 'lat':float, 'date':str, \n",
    "              'sqft_basement':int, 'yr_built':int, 'id':str, \n",
    "              'sqft_lot':int, 'view':int}"
   ]
  },
  {
   "cell_type": "code",
   "execution_count": 3,
   "metadata": {},
   "outputs": [],
   "source": [
    "sales = pd.read_csv('kc_house_data.csv',dtype=dtype_dict)"
   ]
  },
  {
   "cell_type": "code",
   "execution_count": 4,
   "metadata": {},
   "outputs": [
    {
     "data": {
      "text/plain": [
       "id                object\n",
       "date              object\n",
       "price            float64\n",
       "bedrooms         float64\n",
       "bathrooms        float64\n",
       "sqft_living      float64\n",
       "sqft_lot           int32\n",
       "floors            object\n",
       "waterfront         int32\n",
       "view               int32\n",
       "condition          int32\n",
       "grade              int32\n",
       "sqft_above         int32\n",
       "sqft_basement      int32\n",
       "yr_built           int32\n",
       "yr_renovated       int32\n",
       "zipcode           object\n",
       "lat              float64\n",
       "long             float64\n",
       "sqft_living15    float64\n",
       "sqft_lot15       float64\n",
       "dtype: object"
      ]
     },
     "execution_count": 4,
     "metadata": {},
     "output_type": "execute_result"
    }
   ],
   "source": [
    "sales.dtypes"
   ]
  },
  {
   "cell_type": "markdown",
   "metadata": {},
   "source": [
    "# Plot House Prices from the Dataset"
   ]
  },
  {
   "cell_type": "code",
   "execution_count": 5,
   "metadata": {},
   "outputs": [
    {
     "data": {
      "text/plain": [
       "<matplotlib.axes._subplots.AxesSubplot at 0x8f43358>"
      ]
     },
     "execution_count": 5,
     "metadata": {},
     "output_type": "execute_result"
    },
    {
     "data": {
      "image/png": "[encoded data removed]",
      "text/plain": [
       "<Figure size 432x288 with 1 Axes>"
      ]
     },
     "metadata": {},
     "output_type": "display_data"
    }
   ],
   "source": [
    "sales['price'].plot()\n",
    "\n"
   ]
  },
  {
   "cell_type": "markdown",
   "metadata": {},
   "source": [
    "# Import functions "
   ]
  },
  {
   "cell_type": "code",
   "execution_count": 6,
   "metadata": {},
   "outputs": [],
   "source": [
    "def get_numpy_data(data_sframe, features, output):\n",
    "    data_sframe['constant'] = 1 # this is how you add a constant column to an SFrame\n",
    "    # add the column 'constant' to the front of \n",
    "    # the features list so that we can extract it along with the others:\n",
    "    features = ['constant'] + features # this is how you combine two lists\n",
    "    # select the columns of data_SFrame given \n",
    "    # by the features list into the SFrame features_sframe (now including constant):\n",
    "    features_sframe = data_sframe[features]\n",
    "    # the following line will convert the features_SFrame into a numpy matrix:\n",
    "    feature_matrix = features_sframe.as_matrix()\n",
    "    # assign the column of data_sframe associated with the output to the SArray output_sarray\n",
    "    output_sarray = data_sframe[output]\n",
    "    # the following will convert the SArray into a numpy array by first converting it to a list\n",
    "    output_array = output_sarray.as_matrix()\n",
    "    return(feature_matrix, output_array)"
   ]
  },
  {
   "cell_type": "markdown",
   "metadata": {},
   "source": [
    "The `predict_output()` function to compute the predictions for an entire matrix of features given the matrix and the weights:"
   ]
  },
  {
   "cell_type": "code",
   "execution_count": 7,
   "metadata": {},
   "outputs": [],
   "source": [
    "def predict_output(feature_matrix, weights):\n",
    "    # assume feature_matrix is a numpy matrix containing \n",
    "    # the features as columns and weights is a corresponding numpy array\n",
    "    # create the predictions vector by using np.dot()\n",
    "    predictions = np.dot(feature_matrix,weights)\n",
    "    return(predictions)"
   ]
  },
  {
   "cell_type": "markdown",
   "metadata": {},
   "source": [
    "# Compute the Derivative"
   ]
  },
  {
   "cell_type": "markdown",
   "metadata": {},
   "source": [
    "The cost function is the sum over the data points of the squared difference between an observed output and a predicted output, plus the L2 penalty term.\n",
    "```\n",
    "Cost(wt)\n",
    "= SUM[ (prediction - output)^2 ]\n",
    "+ l2_penalty*(wt[0]^2 + wt[1]^2 + ... + wt[k]^2).\n",
    "```\n",
    "\n",
    "We now add the derivative of the regularization part the derivative of the RSS \n",
    "with respect to `wt[i]` can be written as: \n",
    "```\n",
    "2*SUM[ error*[feature_i] ].\n",
    "```\n",
    "The derivative of the regularization term with respect to `wt[i]` is:\n",
    "```\n",
    "2*l2_penalty*wt[i].\n",
    "```\n",
    "Adding both, we get\n",
    "```\n",
    "2*SUM[ error*[feature_i] ] + 2*l2_penalty*wt[i].\n",
    "```\n",
    "In other words, the derivative for the weight for \n",
    "feature i is the sum (over data points) of \n",
    "2 times the product of the error and the feature itself, plus `2*l2_penalty*wt[i]`. \n",
    "\n",
    "**We will not regularize the constant.**  \n",
    "Thus, in the case of the constant, the derivative \n",
    "is just twice the sum of the errors (without the `2*l2_penalty*wt[0]` term)."
   ]
  },
  {
   "cell_type": "code",
   "execution_count": 8,
   "metadata": {},
   "outputs": [],
   "source": [
    "def feature_derivative_ridge(errors, feature,weight, \n",
    "                             l2_penalty, feature_is_constant):\n",
    "    # If feature_is_constant is True, \n",
    "    # derivative is twice the dot product of errors and feature\n",
    "    if feature_is_constant:\n",
    "        derivative = 2*np.dot(errors,feature)\n",
    "    else:\n",
    "        derivative = 2*np.dot(errors,feature) + 2*l2_penalty*weight\n",
    "    # Otherwise, derivative is twice the dot product plus 2*l2_penalty*weight\n",
    "    \n",
    "    return derivative"
   ]
  },
  {
   "cell_type": "markdown",
   "metadata": {},
   "source": [
    "Testing the feature derivartive:"
   ]
  },
  {
   "cell_type": "code",
   "execution_count": 9,
   "metadata": {},
   "outputs": [
    {
     "name": "stderr",
     "output_type": "stream",
     "text": [
      "C:\\ProgramData\\Anaconda2\\lib\\site-packages\\ipykernel_launcher.py:10: FutureWarning: Method .as_matrix will be removed in a future version. Use .values instead.\n",
      "  # Remove the CWD from sys.path while we load stuff.\n",
      "C:\\ProgramData\\Anaconda2\\lib\\site-packages\\ipykernel_launcher.py:14: FutureWarning: Method .as_matrix will be removed in a future version. Use .values instead.\n",
      "  \n"
     ]
    }
   ],
   "source": [
    "(ML_features, ML_output) = get_numpy_data(sales, ['sqft_living'], 'price') \n",
    "ML_weights = np.array([1., 10.])\n",
    "test_predictions = predict_output(ML_features, ML_weights) \n",
    "errors = test_predictions - ML_output # prediction errors"
   ]
  },
  {
   "cell_type": "code",
   "execution_count": 10,
   "metadata": {},
   "outputs": [
    {
     "name": "stdout",
     "output_type": "stream",
     "text": [
      "-56554166815950.0\n",
      "-56554166815950.0\n",
      "\n"
     ]
    }
   ],
   "source": [
    "# next two lines should print the same values\n",
    "print feature_derivative_ridge(errors, ML_features[:,1],\n",
    "                               ML_weights[1], 1, False)\n",
    "print np.sum(errors*ML_features[:,1])*2+20.\n",
    "print ''"
   ]
  },
  {
   "cell_type": "code",
   "execution_count": 11,
   "metadata": {},
   "outputs": [
    {
     "name": "stdout",
     "output_type": "stream",
     "text": [
      "-22446749330.0\n",
      "-22446749330.0\n"
     ]
    }
   ],
   "source": [
    "# next two lines should print the same values\n",
    "print feature_derivative_ridge(errors, ML_features[:,0], \n",
    "                               ML_weights[0], 1, True)\n",
    "print np.sum(errors)*2."
   ]
  },
  {
   "cell_type": "markdown",
   "metadata": {},
   "source": [
    "# Gradient Descent"
   ]
  },
  {
   "cell_type": "markdown",
   "metadata": {},
   "source": [
    "Gradient descent is used to minimize some function \n",
    "by iteratively moving in the direction of steepest descent \n",
    "as defined by the negative of the gradient. \n",
    "Gradient descent is to update the parameters of our model. "
   ]
  },
  {
   "cell_type": "markdown",
   "metadata": {},
   "source": [
    "The gradient is the direction of *increase* and \n",
    "therefore the negative gradient is the direction \n",
    "of *decrease* and we're trying to *minimize* a cost function. \n",
    "\n",
    "The move in the negative gradient *direction*  is called the 'step size'. \n",
    "\n",
    "Then when we are 'sufficiently close' to the optimum, \n",
    "we will set a **maximum number of iterations** and \n",
    "take gradient steps until we reach this maximum number. \n",
    "If no maximum number is supplied, the maximum should be set 100 by default. \n",
    "\n",
    "Thus we update the weight for each feature before computing our stopping criteria."
   ]
  },
  {
   "cell_type": "code",
   "execution_count": 12,
   "metadata": {},
   "outputs": [],
   "source": [
    "def ridge_regression_gradient_descent(feature_matrix, output, initial_weights, step_size, \n",
    "                                      l2_penalty, max_iterations=100):\n",
    "    print 'Starting gradient descent with l2_penalty = ' + str(l2_penalty)\n",
    "    \n",
    "    weights = np.array(initial_weights) \n",
    "    iteration = 0 # iteration counter\n",
    "    print_frequency = 1  # for adjusting frequency of debugging output\n",
    "    \n",
    "    #while not reached maximum number of iterations:\n",
    "    while iteration < max_iterations:\n",
    "        iteration += 1  # increment iteration counter\n",
    "        ### === code section for adjusting frequency of debugging output. ===\n",
    "        if iteration == 10:\n",
    "            print_frequency = 10\n",
    "        if iteration == 100:\n",
    "            print_frequency = 100\n",
    "        if iteration%print_frequency==0:\n",
    "            print('Iteration = ' + str(iteration))\n",
    "        ### === end code section ===\n",
    "        \n",
    "        # compute the predictions based on feature_matrix \n",
    "        # and weights using your predict_output() function\n",
    "        predictions = predict_output(feature_matrix,weights)\n",
    "        # compute the errors as predictions - output\n",
    "        errors = predictions - output\n",
    "        # from time to time, print the value of the cost function\n",
    "        if iteration%print_frequency==0:\n",
    "            print 'Cost function = ', str(np.dot(errors,errors) + \n",
    "                                          l2_penalty*(np.dot(weights,weights) \n",
    "                                                      - weights[0]**2))\n",
    "        \n",
    "        for i in xrange(len(weights)): # loop over each weight\n",
    "            # Recall that feature_matrix[:,i] is the feature column \n",
    "            # associated with weights[i]\n",
    "            # compute the derivative for weight[i].\n",
    "            #(Remember: when i=0, you are computing the derivative of the constant!)\n",
    "            if i == 0 :\n",
    "                derivative = feature_derivative_ridge(errors, \n",
    "                                                      feature_matrix[:,i], \n",
    "                                                      weights[i], l2_penalty, True)\n",
    "            else:\n",
    "                derivative = feature_derivative_ridge(errors, \n",
    "                                                      feature_matrix[:,i], \n",
    "                                                      weights[i], l2_penalty, False)\n",
    "\n",
    "            # subtract the step size times the derivative from the current weight\n",
    "            weights[i] -=  (step_size*derivative)\n",
    "    print 'gradient descent iteration completed', iteration\n",
    "    print 'Learned weights = ', str(weights)\n",
    "    return weights"
   ]
  },
  {
   "cell_type": "markdown",
   "metadata": {},
   "source": [
    "# Studying the L2 penalty"
   ]
  },
  {
   "cell_type": "markdown",
   "metadata": {},
   "source": [
    "We now study how the large weights get penalized and consider ML1 with 1 feature:"
   ]
  },
  {
   "cell_type": "code",
   "execution_count": 13,
   "metadata": {},
   "outputs": [],
   "source": [
    "ML1_features = ['sqft_living']\n",
    "ML1_output = 'price'"
   ]
  },
  {
   "cell_type": "markdown",
   "metadata": {},
   "source": [
    "Let us split the dataset into training set and test set. Make sure to use `seed=0`:"
   ]
  },
  {
   "cell_type": "code",
   "execution_count": 14,
   "metadata": {},
   "outputs": [],
   "source": [
    "train_data = pd.read_csv('kc_house_train_data.csv',dtype = dtype_dict)\n",
    "test_data = pd.read_csv('kc_house_test_data.csv',dtype=dtype_dict)"
   ]
  },
  {
   "cell_type": "markdown",
   "metadata": {},
   "source": [
    "In this part, we will use only `'sqft_living'` to \n",
    "predict `'price'`for both the `train_data` and the `test_data`. "
   ]
  },
  {
   "cell_type": "code",
   "execution_count": 15,
   "metadata": {},
   "outputs": [
    {
     "name": "stderr",
     "output_type": "stream",
     "text": [
      "C:\\ProgramData\\Anaconda2\\lib\\site-packages\\ipykernel_launcher.py:10: FutureWarning: Method .as_matrix will be removed in a future version. Use .values instead.\n",
      "  # Remove the CWD from sys.path while we load stuff.\n",
      "C:\\ProgramData\\Anaconda2\\lib\\site-packages\\ipykernel_launcher.py:14: FutureWarning: Method .as_matrix will be removed in a future version. Use .values instead.\n",
      "  \n"
     ]
    }
   ],
   "source": [
    "(ML1_feature_matrix, output) = get_numpy_data(train_data, \n",
    "                                              ML1_features, ML1_output)\n",
    "(ML1_test_feature_matrix, test_output) = get_numpy_data(test_data, \n",
    "                                                        ML1_features, ML1_output)"
   ]
  },
  {
   "cell_type": "markdown",
   "metadata": {},
   "source": [
    "Now let us view the parameters for our optimization:"
   ]
  },
  {
   "cell_type": "code",
   "execution_count": 16,
   "metadata": {},
   "outputs": [],
   "source": [
    "initial_weights = np.array([0., 0.])\n",
    "step_size = 1e-12\n",
    "max_iterations=1000"
   ]
  },
  {
   "cell_type": "markdown",
   "metadata": {},
   "source": [
    "First, let's consider no regularization where the `l2_penalty` to `0.0`"
   ]
  },
  {
   "cell_type": "code",
   "execution_count": 17,
   "metadata": {},
   "outputs": [
    {
     "name": "stdout",
     "output_type": "stream",
     "text": [
      "Starting gradient descent with l2_penalty = 0.0\n",
      "Iteration = 1\n",
      "Cost function =  7433051852335772.0\n",
      "Iteration = 2\n",
      "Cost function =  5394267213533688.0\n",
      "Iteration = 3\n",
      "Cost function =  4023237736286403.0\n",
      "Iteration = 4\n",
      "Cost function =  3101256183295487.0\n",
      "Iteration = 5\n",
      "Cost function =  2481247643601011.5\n",
      "Iteration = 6\n",
      "Cost function =  2064308076801447.0\n",
      "Iteration = 7\n",
      "Cost function =  1783927096156441.0\n",
      "Iteration = 8\n",
      "Cost function =  1595378201854742.0\n",
      "Iteration = 9\n",
      "Cost function =  1468583989698184.5\n",
      "Iteration = 10\n",
      "Cost function =  1383318190090050.5\n",
      "Iteration = 20\n",
      "Cost function =  1211562139024524.2\n",
      "Iteration = 30\n",
      "Cost function =  1208313761205656.5\n",
      "Iteration = 40\n",
      "Cost function =  1208252324779675.5\n",
      "Iteration = 50\n",
      "Cost function =  1208251162139724.5\n",
      "Iteration = 60\n",
      "Cost function =  1208251139442068.0\n",
      "Iteration = 70\n",
      "Cost function =  1208251138303841.0\n",
      "Iteration = 80\n",
      "Cost function =  1208251137573361.5\n",
      "Iteration = 90\n",
      "Cost function =  1208251136850593.8\n",
      "Iteration = 100\n",
      "Cost function =  1208251136127972.2\n",
      "Iteration = 200\n",
      "Cost function =  1208251128901788.5\n",
      "Iteration = 300\n",
      "Cost function =  1208251121675613.0\n",
      "Iteration = 400\n",
      "Cost function =  1208251114449445.5\n",
      "Iteration = 500\n",
      "Cost function =  1208251107223286.8\n",
      "Iteration = 600\n",
      "Cost function =  1208251099997135.8\n",
      "Iteration = 700\n",
      "Cost function =  1208251092770993.2\n",
      "Iteration = 800\n",
      "Cost function =  1208251085544859.0\n",
      "Iteration = 900\n",
      "Cost function =  1208251078318733.0\n",
      "Iteration = 1000\n",
      "Cost function =  1208251071092615.0\n",
      "gradient descent iteration completed 1000\n",
      "Learned weights =  [-1.63113515e-01  2.63024369e+02]\n"
     ]
    }
   ],
   "source": [
    "ML1_weights_0_penalty=ridge_regression_gradient_descent(ML1_feature_matrix, \n",
    "                                                        output, initial_weights, \n",
    "                                                        step_size, 0.0, max_iterations)"
   ]
  },
  {
   "cell_type": "markdown",
   "metadata": {},
   "source": [
    "Now we consider high regularization with the `l2_penalty` to `1e11` "
   ]
  },
  {
   "cell_type": "code",
   "execution_count": 18,
   "metadata": {},
   "outputs": [
    {
     "name": "stdout",
     "output_type": "stream",
     "text": [
      "Starting gradient descent with l2_penalty = 1e+11\n",
      "Iteration = 1\n",
      "Cost function =  7433051852335772.0\n",
      "Iteration = 2\n",
      "Cost function =  5618303898910948.0\n",
      "Iteration = 3\n",
      "Cost function =  4920613278301801.0\n",
      "Iteration = 4\n",
      "Cost function =  4652381942678798.0\n",
      "Iteration = 5\n",
      "Cost function =  4549258764034560.0\n",
      "Iteration = 6\n",
      "Cost function =  4509612390884944.0\n",
      "Iteration = 7\n",
      "Cost function =  4494370050276983.0\n",
      "Iteration = 8\n",
      "Cost function =  4488509984023467.0\n",
      "Iteration = 9\n",
      "Cost function =  4486256988524009.0\n",
      "Iteration = 10\n",
      "Cost function =  4485390752666539.0\n",
      "Iteration = 20\n",
      "Cost function =  4484848868025912.0\n",
      "Iteration = 30\n",
      "Cost function =  4484847880470641.0\n",
      "Iteration = 40\n",
      "Cost function =  4484846931073274.5\n",
      "Iteration = 50\n",
      "Cost function =  4484845981678999.0\n",
      "Iteration = 60\n",
      "Cost function =  4484845032285121.5\n",
      "Iteration = 70\n",
      "Cost function =  4484844082891643.5\n",
      "Iteration = 80\n",
      "Cost function =  4484843133498564.0\n",
      "Iteration = 90\n",
      "Cost function =  4484842184105884.0\n",
      "Iteration = 100\n",
      "Cost function =  4484841234713602.0\n",
      "Iteration = 200\n",
      "Cost function =  4484831740812718.0\n",
      "Iteration = 300\n",
      "Cost function =  4484822246951714.5\n",
      "Iteration = 400\n",
      "Cost function =  4484812753130591.0\n",
      "Iteration = 500\n",
      "Cost function =  4484803259349349.0\n",
      "Iteration = 600\n",
      "Cost function =  4484793765607986.0\n",
      "Iteration = 700\n",
      "Cost function =  4484784271906503.0\n",
      "Iteration = 800\n",
      "Cost function =  4484774778244900.0\n",
      "Iteration = 900\n",
      "Cost function =  4484765284623177.0\n",
      "Iteration = 1000\n",
      "Cost function =  4484755791041333.0\n",
      "gradient descent iteration completed 1000\n",
      "Learned weights =  [  9.76730382 124.57217567]\n"
     ]
    }
   ],
   "source": [
    "ML1_weights_high_penalty=ridge_regression_gradient_descent(ML1_feature_matrix, \n",
    "                                                           output, initial_weights, \n",
    "                                                           step_size, 1e11, max_iterations)"
   ]
  },
  {
   "cell_type": "markdown",
   "metadata": {},
   "source": [
    "We now plot the two learned models with the following:\n",
    "\n",
    "* Blue - no regularization \n",
    "* Red - high regularization"
   ]
  },
  {
   "cell_type": "code",
   "execution_count": 19,
   "metadata": {},
   "outputs": [
    {
     "data": {
      "text/plain": [
       "[<matplotlib.lines.Line2D at 0xb44e550>,\n",
       " <matplotlib.lines.Line2D at 0xb44e668>,\n",
       " <matplotlib.lines.Line2D at 0xb44ed30>,\n",
       " <matplotlib.lines.Line2D at 0xb44eda0>,\n",
       " <matplotlib.lines.Line2D at 0xb45a470>,\n",
       " <matplotlib.lines.Line2D at 0xb45a4e0>]"
      ]
     },
     "execution_count": 19,
     "metadata": {},
     "output_type": "execute_result"
    },
    {
     "data": {
      "image/png": "[encoded data removed]",
      "text/plain": [
       "<Figure size 432x288 with 1 Axes>"
      ]
     },
     "metadata": {},
     "output_type": "display_data"
    }
   ],
   "source": [
    "import matplotlib.pyplot as plt\n",
    "%matplotlib inline\n",
    "plt.plot(ML1_feature_matrix,output,'k.',\n",
    "         ML1_feature_matrix,predict_output(ML1_feature_matrix, \n",
    "                                           ML1_weights_0_penalty),'b-',\n",
    "        ML1_feature_matrix,predict_output(ML1_feature_matrix, \n",
    "                                          ML1_weights_high_penalty),'r-')"
   ]
  },
  {
   "cell_type": "markdown",
   "metadata": {},
   "source": [
    "We now compare weights learned with no regularization and high regularization using the RSS on the TEST data. "
   ]
  },
  {
   "cell_type": "code",
   "execution_count": 20,
   "metadata": {},
   "outputs": [
    {
     "name": "stdout",
     "output_type": "stream",
     "text": [
      "RSS1: 1784273286136298.0\n",
      "RSS2: 275723632153607.44\n",
      "RSS3: 694642101489902.6\n"
     ]
    }
   ],
   "source": [
    "ML_RSS1 = sum((-test_output)**2)\n",
    "ML_RSS2 = ((predict_output(ML1_test_feature_matrix,\n",
    "                           ML1_weights_0_penalty)-test_output)**2).sum()\n",
    "ML_RSS3 = sum((predict_output(ML1_test_feature_matrix,\n",
    "                              ML1_weights_high_penalty)-test_output)**2)\n",
    "print \"RSS1: \" + str(ML_RSS1)\n",
    "print \"RSS2: \" + str(ML_RSS2)\n",
    "print \"RSS3: \" + str(ML_RSS3)"
   ]
  },
  {
   "cell_type": "code",
   "execution_count": 21,
   "metadata": {},
   "outputs": [
    {
     "name": "stdout",
     "output_type": "stream",
     "text": [
      "No Regulaization with value 1: 263.0243689653849\n",
      "High Regularization value 1: 124.57217567413909\n"
     ]
    }
   ],
   "source": [
    "print \"No Regulaization with value 1: \" + str(ML1_weights_0_penalty[1])\n",
    "print \"High Regularization value 1: \" + str(ML1_weights_high_penalty[1])"
   ]
  },
  {
   "cell_type": "markdown",
   "metadata": {},
   "source": [
    "# Multiple regression with L2 penalty"
   ]
  },
  {
   "cell_type": "code",
   "execution_count": 22,
   "metadata": {},
   "outputs": [
    {
     "data": {
      "text/plain": [
       "id                object\n",
       "date              object\n",
       "price            float64\n",
       "bedrooms         float64\n",
       "bathrooms        float64\n",
       "sqft_living      float64\n",
       "sqft_lot           int32\n",
       "floors            object\n",
       "waterfront         int32\n",
       "view               int32\n",
       "condition          int32\n",
       "grade              int32\n",
       "sqft_above         int32\n",
       "sqft_basement      int32\n",
       "yr_built           int32\n",
       "yr_renovated       int32\n",
       "zipcode           object\n",
       "lat              float64\n",
       "long             float64\n",
       "sqft_living15    float64\n",
       "sqft_lot15       float64\n",
       "constant           int64\n",
       "dtype: object"
      ]
     },
     "execution_count": 22,
     "metadata": {},
     "output_type": "execute_result"
    }
   ],
   "source": [
    "sales.dtypes"
   ]
  },
  {
   "cell_type": "markdown",
   "metadata": {},
   "source": [
    "Now we will study a model with 2 features: `['sqft_living', 'sqft_living15']`."
   ]
  },
  {
   "cell_type": "markdown",
   "metadata": {},
   "source": [
    "First, we using the training and test data with these two features. "
   ]
  },
  {
   "cell_type": "code",
   "execution_count": 23,
   "metadata": {},
   "outputs": [
    {
     "name": "stderr",
     "output_type": "stream",
     "text": [
      "C:\\ProgramData\\Anaconda2\\lib\\site-packages\\ipykernel_launcher.py:10: FutureWarning: Method .as_matrix will be removed in a future version. Use .values instead.\n",
      "  # Remove the CWD from sys.path while we load stuff.\n",
      "C:\\ProgramData\\Anaconda2\\lib\\site-packages\\ipykernel_launcher.py:14: FutureWarning: Method .as_matrix will be removed in a future version. Use .values instead.\n",
      "  \n"
     ]
    }
   ],
   "source": [
    "ML2_features = ['sqft_living', 'sqft_living15'] # sqft_living15 is the \n",
    "                                                # average squarefeet \n",
    "                                                # for the nearest 15 neighbors. \n",
    "ML2_output = 'price'\n",
    "(ML2_feature_matrix, output) = get_numpy_data(train_data, \n",
    "                                              ML2_features, \n",
    "                                              ML2_output)\n",
    "(ML2_test_feature_matrix, test_output) = get_numpy_data(test_data, \n",
    "                                                        ML2_features, \n",
    "                                                        ML2_output)"
   ]
  },
  {
   "cell_type": "markdown",
   "metadata": {},
   "source": [
    "We need to re-inialize the weights, set the step size \n",
    "to `1e-12` and maximum number of iterations `1000` ."
   ]
  },
  {
   "cell_type": "code",
   "execution_count": 24,
   "metadata": {},
   "outputs": [],
   "source": [
    "initial_weights = np.array([0.0,0.0,0.0])\n",
    "step_size = 1e-12\n",
    "max_iterations = 1000"
   ]
  },
  {
   "cell_type": "markdown",
   "metadata": {},
   "source": [
    "First, let's consider no regularization where the `l2_penalty` to `0.0`"
   ]
  },
  {
   "cell_type": "code",
   "execution_count": 25,
   "metadata": {},
   "outputs": [
    {
     "name": "stdout",
     "output_type": "stream",
     "text": [
      "Starting gradient descent with l2_penalty = 0.0\n",
      "Iteration = 1\n",
      "Cost function =  7433051852335772.0\n",
      "Iteration = 2\n",
      "Cost function =  4056752332045942.5\n",
      "Iteration = 3\n",
      "Cost function =  2529565114525309.5\n",
      "Iteration = 4\n",
      "Cost function =  1838556694300507.0\n",
      "Iteration = 5\n",
      "Cost function =  1525675575150296.8\n",
      "Iteration = 6\n",
      "Cost function =  1383789498571784.0\n",
      "Iteration = 7\n",
      "Cost function =  1319232606146273.5\n",
      "Iteration = 8\n",
      "Cost function =  1289648871879140.8\n",
      "Iteration = 9\n",
      "Cost function =  1275884723913737.0\n",
      "Iteration = 10\n",
      "Cost function =  1269278807397619.2\n",
      "Iteration = 20\n",
      "Cost function =  1257812386017016.2\n",
      "Iteration = 30\n",
      "Cost function =  1251954570861556.0\n",
      "Iteration = 40\n",
      "Cost function =  1246755422656426.0\n",
      "Iteration = 50\n",
      "Cost function =  1242139508166548.5\n",
      "Iteration = 60\n",
      "Cost function =  1238041400480994.0\n",
      "Iteration = 70\n",
      "Cost function =  1234403012742170.5\n",
      "Iteration = 80\n",
      "Cost function =  1231172774196731.0\n",
      "Iteration = 90\n",
      "Cost function =  1228304899227735.2\n",
      "Iteration = 100\n",
      "Cost function =  1225758738385979.0\n",
      "Iteration = 200\n",
      "Cost function =  1211738880290897.0\n",
      "Iteration = 300\n",
      "Cost function =  1207473079755049.5\n",
      "Iteration = 400\n",
      "Cost function =  1206175124539965.0\n",
      "Iteration = 500\n",
      "Cost function =  1205780188995876.5\n",
      "Iteration = 600\n",
      "Cost function =  1205660013231388.8\n",
      "Iteration = 700\n",
      "Cost function =  1205623438011734.2\n",
      "Iteration = 800\n",
      "Cost function =  1205612299743252.0\n",
      "Iteration = 900\n",
      "Cost function =  1205608901119130.5\n",
      "Iteration = 1000\n",
      "Cost function =  1205607857419329.5\n",
      "gradient descent iteration completed 1000\n",
      "Learned weights =  [ -0.35743483 243.05416982  22.41481497]\n"
     ]
    }
   ],
   "source": [
    "ML2_weights_0_penalty = ridge_regression_gradient_descent(ML2_feature_matrix, \n",
    "                                                          output, initial_weights, \n",
    "                                                          step_size, 0.0, max_iterations)"
   ]
  },
  {
   "cell_type": "markdown",
   "metadata": {},
   "source": [
    "Now we consider high regularization with the `l2_penalty` to `1e11` "
   ]
  },
  {
   "cell_type": "code",
   "execution_count": 26,
   "metadata": {},
   "outputs": [
    {
     "name": "stdout",
     "output_type": "stream",
     "text": [
      "Starting gradient descent with l2_penalty = 1e+11\n",
      "Iteration = 1\n",
      "Cost function =  7433051852335772.0\n",
      "Iteration = 2\n",
      "Cost function =  4460489790922030.5\n",
      "Iteration = 3\n",
      "Cost function =  3796674469325300.0\n",
      "Iteration = 4\n",
      "Cost function =  3648319530880128.0\n",
      "Iteration = 5\n",
      "Cost function =  3615091103648369.0\n",
      "Iteration = 6\n",
      "Cost function =  3607602742943372.0\n",
      "Iteration = 7\n",
      "Cost function =  3605886322588678.0\n",
      "Iteration = 8\n",
      "Cost function =  3605474874959446.0\n",
      "Iteration = 9\n",
      "Cost function =  3605365168191211.5\n",
      "Iteration = 10\n",
      "Cost function =  3605329402609966.0\n",
      "Iteration = 20\n",
      "Cost function =  3605294281447482.0\n",
      "Iteration = 30\n",
      "Cost function =  3605293537691883.0\n",
      "Iteration = 40\n",
      "Cost function =  3605293083174690.0\n",
      "Iteration = 50\n",
      "Cost function =  3605292631531144.0\n",
      "Iteration = 60\n",
      "Cost function =  3605292179916289.0\n",
      "Iteration = 70\n",
      "Cost function =  3605291728301859.0\n",
      "Iteration = 80\n",
      "Cost function =  3605291276687576.0\n",
      "Iteration = 90\n",
      "Cost function =  3605290825073435.0\n",
      "Iteration = 100\n",
      "Cost function =  3605290373459437.0\n",
      "Iteration = 200\n",
      "Cost function =  3605285857327309.5\n",
      "Iteration = 300\n",
      "Cost function =  3605281341209459.5\n",
      "Iteration = 400\n",
      "Cost function =  3605276825105885.5\n",
      "Iteration = 500\n",
      "Cost function =  3605272309016589.0\n",
      "Iteration = 600\n",
      "Cost function =  3605267792941569.0\n",
      "Iteration = 700\n",
      "Cost function =  3605263276880827.0\n",
      "Iteration = 800\n",
      "Cost function =  3605258760834360.5\n",
      "Iteration = 900\n",
      "Cost function =  3605254244802172.0\n",
      "Iteration = 1000\n",
      "Cost function =  3605249728784260.0\n",
      "gradient descent iteration completed 1000\n",
      "Learned weights =  [ 6.74296579 91.48927365 78.43658766]\n"
     ]
    }
   ],
   "source": [
    "ML2_weights_high_penalty = ridge_regression_gradient_descent(ML2_feature_matrix, \n",
    "                                                             output, initial_weights, \n",
    "                                                             step_size, 1e11, max_iterations)"
   ]
  },
  {
   "cell_type": "markdown",
   "metadata": {},
   "source": [
    "We now plot the two learned models with the following:\n",
    "\n",
    "* Blue - no regularization \n",
    "* Red - high regularization"
   ]
  },
  {
   "cell_type": "code",
   "execution_count": 27,
   "metadata": {},
   "outputs": [
    {
     "data": {
      "text/plain": [
       "[<matplotlib.lines.Line2D at 0xbb74470>,\n",
       " <matplotlib.lines.Line2D at 0xbb744e0>,\n",
       " <matplotlib.lines.Line2D at 0xbb74588>,\n",
       " <matplotlib.lines.Line2D at 0xbb74f98>,\n",
       " <matplotlib.lines.Line2D at 0xbb80048>,\n",
       " <matplotlib.lines.Line2D at 0xbb800f0>,\n",
       " <matplotlib.lines.Line2D at 0xbb80a58>,\n",
       " <matplotlib.lines.Line2D at 0xbb80ac8>,\n",
       " <matplotlib.lines.Line2D at 0xbb80b70>]"
      ]
     },
     "execution_count": 27,
     "metadata": {},
     "output_type": "execute_result"
    },
    {
     "data": {
      "image/png": "[encoded data removed]",
      "text/plain": [
       "<Figure size 432x288 with 1 Axes>"
      ]
     },
     "metadata": {},
     "output_type": "display_data"
    }
   ],
   "source": [
    "import matplotlib.pyplot as plt\n",
    "%matplotlib inline\n",
    "plt.plot(ML2_feature_matrix,output,'k.',\n",
    "         ML2_feature_matrix,predict_output(ML2_feature_matrix, \n",
    "                                           ML2_weights_0_penalty),'b-',\n",
    "        ML2_feature_matrix,predict_output(ML2_feature_matrix, \n",
    "                                          ML2_weights_high_penalty),'r-')"
   ]
  },
  {
   "cell_type": "markdown",
   "metadata": {},
   "source": [
    "We now compare weights learned with no regularization and high regularization using the RSS on the TEST data. "
   ]
  },
  {
   "cell_type": "code",
   "execution_count": 28,
   "metadata": {},
   "outputs": [
    {
     "name": "stdout",
     "output_type": "stream",
     "text": [
      "RSS1: 1784273286136298.0\n",
      "RSS2: 274067615918575.53\n",
      "RSS3: 500404800500840.75\n"
     ]
    }
   ],
   "source": [
    "ML_RSS1 = sum((-test_output)**2)\n",
    "ML_RSS2 = ((predict_output(ML2_test_feature_matrix,\n",
    "                           ML2_weights_0_penalty)-test_output)**2).sum()\n",
    "ML_RSS3 = sum((predict_output(ML2_test_feature_matrix,\n",
    "                              ML2_weights_high_penalty)-test_output)**2)\n",
    "print \"RSS1: \" + str(ML_RSS1)\n",
    "print \"RSS2: \" + str(ML_RSS2)\n",
    "print \"RSS3: \" + str(ML_RSS3)"
   ]
  },
  {
   "cell_type": "markdown",
   "metadata": {},
   "source": [
    "We now predict the house price for the 1st house in the test set using the no regularization and high regularization models. "
   ]
  },
  {
   "cell_type": "code",
   "execution_count": 29,
   "metadata": {},
   "outputs": [
    {
     "name": "stdout",
     "output_type": "stream",
     "text": [
      "Predicted 1st house (No Regularization): 387465.47605823533\n",
      "Predicted 1st house (High Regularization): 270453.53032194055\n",
      "Actual house price: 310000.0\n"
     ]
    }
   ],
   "source": [
    "print \"Predicted 1st house (No Regularization): \" + str(predict_output(ML2_test_feature_matrix,\n",
    "                                                                                     ML2_weights_0_penalty)[0])\n",
    "print \"Predicted 1st house (High Regularization): \" + str(predict_output(ML2_test_feature_matrix,\n",
    "                                                                                       ML2_weights_high_penalty)[0])\n",
    "print \"Actual house price: \" + str(test_output[0])"
   ]
  },
  {
   "cell_type": "markdown",
   "metadata": {},
   "source": [
    "We now predict the house price for the 11th house in the test set using the no regularization and high regularization models. "
   ]
  },
  {
   "cell_type": "code",
   "execution_count": 30,
   "metadata": {},
   "outputs": [
    {
     "name": "stdout",
     "output_type": "stream",
     "text": [
      "Predicted 11th house (No Regularization): 478551.3475892041\n",
      "Predicted 11th house (High Regularization): 315939.5228610413\n",
      "Actual house price: 349000.0\n"
     ]
    }
   ],
   "source": [
    "print \"Predicted 11th house (No Regularization): \" + str(predict_output(ML2_test_feature_matrix,\n",
    "                                                                        ML2_weights_0_penalty)[10])\n",
    "print \"Predicted 11th house (High Regularization): \" + str(predict_output(ML2_test_feature_matrix,\n",
    "                                                                          ML2_weights_high_penalty)[10])\n",
    "print \"Actual house price: \" + str(test_output[10])"
   ]
  },
  {
   "cell_type": "code",
   "execution_count": null,
   "metadata": {},
   "outputs": [],
   "source": []
  }
 ],
 "metadata": {
  "anaconda-cloud": {},
  "kernelspec": {
   "display_name": "Python 2",
   "language": "python",
   "name": "python2"
  },
  "language_info": {
   "codemirror_mode": {
    "name": "ipython",
    "version": 2
   },
   "file_extension": ".py",
   "mimetype": "text/x-python",
   "name": "python",
   "nbconvert_exporter": "python",
   "pygments_lexer": "ipython2",
   "version": "2.7.15"
  }
 },
 "nbformat": 4,
 "nbformat_minor": 1
}
