{
 "cells": [
  {
   "cell_type": "markdown",
   "metadata": {},
   "source": [
    "# Multiple Regression - R&I"
   ]
  },
  {
   "cell_type": "code",
   "execution_count": 1,
   "metadata": {},
   "outputs": [],
   "source": [
    "import pandas as pd\n",
    "import numpy as np"
   ]
  },
  {
   "cell_type": "markdown",
   "metadata": {},
   "source": [
    "# Use split data - training and testing "
   ]
  },
  {
   "cell_type": "code",
   "execution_count": 2,
   "metadata": {},
   "outputs": [],
   "source": [
    "train_data = pd.read_csv('kc_house_train_data.csv')\n",
    "test_data = pd.read_csv('kc_house_test_data.csv')"
   ]
  },
  {
   "cell_type": "markdown",
   "metadata": {},
   "source": [
    "# Learning: Multiple regression model"
   ]
  },
  {
   "cell_type": "markdown",
   "metadata": {},
   "source": [
    "We prepare a multiple regression model to predict 'price' based on the following features:\n",
    "ML_features = ['sqft_living', 'bedrooms', 'bathrooms'] on training data:\n"
   ]
  },
  {
   "cell_type": "code",
   "execution_count": 3,
   "metadata": {},
   "outputs": [],
   "source": [
    "from sklearn.linear_model import LinearRegression"
   ]
  },
  {
   "cell_type": "code",
   "execution_count": 4,
   "metadata": {},
   "outputs": [
    {
     "data": {
      "text/plain": [
       "LinearRegression(copy_X=True, fit_intercept=True, n_jobs=1, normalize=False)"
      ]
     },
     "execution_count": 4,
     "metadata": {},
     "output_type": "execute_result"
    }
   ],
   "source": [
    "ML_features = ['sqft_living', 'bedrooms', 'bathrooms']\n",
    "ML_model = LinearRegression()\n",
    "ML_model.fit(train_data[ML_features],train_data['price'])"
   ]
  },
  {
   "cell_type": "markdown",
   "metadata": {},
   "source": [
    "Extract the regression weights (coefficients):"
   ]
  },
  {
   "cell_type": "code",
   "execution_count": 5,
   "metadata": {},
   "outputs": [],
   "source": [
    "intercept = ML_model.intercept_\n",
    "ML_coef = ML_model.coef_"
   ]
  },
  {
   "cell_type": "code",
   "execution_count": 6,
   "metadata": {},
   "outputs": [
    {
     "data": {
      "text/html": [
       "<div>\n",
       "<style scoped>\n",
       "    .dataframe tbody tr th:only-of-type {\n",
       "        vertical-align: middle;\n",
       "    }\n",
       "\n",
       "    .dataframe tbody tr th {\n",
       "        vertical-align: top;\n",
       "    }\n",
       "\n",
       "    .dataframe thead th {\n",
       "        text-align: right;\n",
       "    }\n",
       "</style>\n",
       "<table border=\"1\" class=\"dataframe\">\n",
       "  <thead>\n",
       "    <tr style=\"text-align: right;\">\n",
       "      <th></th>\n",
       "      <th>Name</th>\n",
       "      <th>Value</th>\n",
       "    </tr>\n",
       "  </thead>\n",
       "  <tbody>\n",
       "    <tr>\n",
       "      <th>0</th>\n",
       "      <td>intercept</td>\n",
       "      <td>87912.865815</td>\n",
       "    </tr>\n",
       "    <tr>\n",
       "      <th>1</th>\n",
       "      <td>sqft_living</td>\n",
       "      <td>315.406691</td>\n",
       "    </tr>\n",
       "    <tr>\n",
       "      <th>2</th>\n",
       "      <td>bedrooms</td>\n",
       "      <td>-65081.887116</td>\n",
       "    </tr>\n",
       "    <tr>\n",
       "      <th>3</th>\n",
       "      <td>bathrooms</td>\n",
       "      <td>6942.165986</td>\n",
       "    </tr>\n",
       "  </tbody>\n",
       "</table>\n",
       "</div>"
      ],
      "text/plain": [
       "          Name         Value\n",
       "0    intercept  87912.865815\n",
       "1  sqft_living    315.406691\n",
       "2     bedrooms -65081.887116\n",
       "3    bathrooms   6942.165986"
      ]
     },
     "execution_count": 6,
     "metadata": {},
     "output_type": "execute_result"
    }
   ],
   "source": [
    "pd.DataFrame({'Name':['intercept']+ML_features,'Value':[intercept]+list(ML_coef)})"
   ]
  },
  {
   "cell_type": "markdown",
   "metadata": {},
   "source": [
    "# Our Predictions\n",
    "\n",
    "We can use the .predict() function to find the predicted values for data we pass. "
   ]
  },
  {
   "cell_type": "code",
   "execution_count": 7,
   "metadata": {},
   "outputs": [
    {
     "name": "stdout",
     "output_type": "stream",
     "text": [
      "271789.26537996985\n"
     ]
    }
   ],
   "source": [
    "ML_predictions = ML_model.predict(train_data[ML_features])\n",
    "print ML_predictions[0] "
   ]
  },
  {
   "cell_type": "markdown",
   "metadata": {},
   "source": [
    "# Compute RSS"
   ]
  },
  {
   "cell_type": "markdown",
   "metadata": {},
   "source": [
    "Calculate RSS given the model, data, and the outcome."
   ]
  },
  {
   "cell_type": "code",
   "execution_count": 8,
   "metadata": {},
   "outputs": [],
   "source": [
    "def get_residual_sum_of_squares(model, data, outcome,features=['sqft_living',\n",
    "                                                               'bedrooms', 'bathrooms']):\n",
    "    # First get the predictions\n",
    "    predictions = model.predict(data[features])\n",
    "    # Then compute the residuals/errors\n",
    "    errors = predictions - outcome\n",
    "    # Then square and add them up\n",
    "    RSS = np.square(errors).sum()\n",
    "    return(RSS)    "
   ]
  },
  {
   "cell_type": "markdown",
   "metadata": {},
   "source": [
    "Computing the RSS on TEST data for the example model:"
   ]
  },
  {
   "cell_type": "code",
   "execution_count": 9,
   "metadata": {},
   "outputs": [
    {
     "name": "stdout",
     "output_type": "stream",
     "text": [
      "rss_ML_train: 273761940583133.72\n"
     ]
    }
   ],
   "source": [
    "rss_ML_train = get_residual_sum_of_squares(ML_model, test_data, \n",
    "                                           test_data['price'])\n",
    "print 'rss_ML_train: ' + str(rss_ML_train) # should be 2.7376153833e+14"
   ]
  },
  {
   "cell_type": "markdown",
   "metadata": {},
   "source": [
    "# Create some new features using log"
   ]
  },
  {
   "cell_type": "markdown",
   "metadata": {},
   "source": [
    "We use logarithm function to create a new feature. "
   ]
  },
  {
   "cell_type": "code",
   "execution_count": 10,
   "metadata": {},
   "outputs": [],
   "source": [
    "from math import log"
   ]
  },
  {
   "cell_type": "markdown",
   "metadata": {},
   "source": [
    "We now create 4 new features for both TEST and TRAIN data:\n",
    "* bedrooms_squared = bedrooms\\*bedrooms\n",
    "* bed_bath_rooms = bedrooms\\*bathrooms\n",
    "* log_sqft_living = log(sqft_living)\n",
    "* lat_plus_long = lat + long \n"
   ]
  },
  {
   "cell_type": "code",
   "execution_count": 11,
   "metadata": {},
   "outputs": [],
   "source": [
    "train_data['bedrooms_squared'] = train_data['bedrooms'].apply(lambda x: x**2)\n",
    "test_data['bedrooms_squared'] = test_data['bedrooms'].apply(lambda x: x**2)"
   ]
  },
  {
   "cell_type": "code",
   "execution_count": 12,
   "metadata": {},
   "outputs": [],
   "source": [
    "# create the remaining 3 features in both TEST and TRAIN data\n",
    "train_data['bed_bath_rooms'] = train_data['bedrooms'] * train_data['bathrooms']\n",
    "train_data['log_sqft_living'] = train_data['sqft_living'].apply(lambda x:log(x))\n",
    "train_data['lat_plus_long'] = train_data['lat'] + train_data['long']\n",
    "test_data['bed_bath_rooms'] = test_data['bedrooms'] * test_data['bathrooms']\n",
    "test_data['log_sqft_living'] = test_data['sqft_living'].apply(lambda x:log(x))\n",
    "test_data['lat_plus_long'] = test_data['lat'] + train_data['long']"
   ]
  },
  {
   "cell_type": "markdown",
   "metadata": {},
   "source": [
    "We now calculate the mean value of the new 4 features on test data."
   ]
  },
  {
   "cell_type": "code",
   "execution_count": 13,
   "metadata": {},
   "outputs": [
    {
     "data": {
      "text/plain": [
       "bedrooms_squared    12.446678\n",
       "bed_bath_rooms       7.503902\n",
       "log_sqft_living      7.550275\n",
       "lat_plus_long      -74.653175\n",
       "dtype: float64"
      ]
     },
     "execution_count": 13,
     "metadata": {},
     "output_type": "execute_result"
    }
   ],
   "source": [
    "test_data[['bedrooms_squared','bed_bath_rooms',\n",
    "           'log_sqft_living','lat_plus_long']].mean()"
   ]
  },
  {
   "cell_type": "markdown",
   "metadata": {},
   "source": [
    "# Multiple Models Learning"
   ]
  },
  {
   "cell_type": "markdown",
   "metadata": {},
   "source": [
    "* Model 1: squarefeet, # bedrooms, # bathrooms, latitude & longitude\n",
    "* Model 2: add bedrooms\\*bathrooms\n",
    "* Model 3: Add log squarefeet, bedrooms squared, and the (nonsensical) latitude + longitude"
   ]
  },
  {
   "cell_type": "code",
   "execution_count": 14,
   "metadata": {},
   "outputs": [],
   "source": [
    "ML_1_features = ['sqft_living', 'bedrooms', \n",
    "                 'bathrooms', 'lat', 'long']\n",
    "ML_2_features = ML_features + ['bed_bath_rooms']\n",
    "ML_3_features = ML_features + ['bedrooms_squared', \n",
    "                               'log_sqft_living', 'lat_plus_long']"
   ]
  },
  {
   "cell_type": "markdown",
   "metadata": {},
   "source": [
    "Now we study the value of the weights/coefficients of each model:"
   ]
  },
  {
   "cell_type": "code",
   "execution_count": 15,
   "metadata": {},
   "outputs": [
    {
     "data": {
      "text/plain": [
       "LinearRegression(copy_X=True, fit_intercept=True, n_jobs=1, normalize=False)"
      ]
     },
     "execution_count": 15,
     "metadata": {},
     "output_type": "execute_result"
    }
   ],
   "source": [
    "# Learn the three models: (don't forget to set validation_set = None)\n",
    "ML_1 = LinearRegression()\n",
    "ML_1.fit(train_data[ML_1_features],train_data['price'])\n",
    "ML_2 = LinearRegression()\n",
    "ML_2.fit(train_data[ML_2_features],train_data['price'])\n",
    "ML_3 = LinearRegression()\n",
    "ML_3.fit(train_data[ML_3_features],train_data['price'])"
   ]
  },
  {
   "cell_type": "code",
   "execution_count": 16,
   "metadata": {},
   "outputs": [
    {
     "name": "stdout",
     "output_type": "stream",
     "text": [
      "          Name         Value\n",
      "0   intercepte -6.907573e+07\n",
      "1  sqft_living  3.122586e+02\n",
      "2     bedrooms -5.958653e+04\n",
      "3    bathrooms  1.570674e+04\n",
      "4          lat  6.586193e+05\n",
      "5         long -3.093744e+05\n",
      "             Name          Value\n",
      "0      intercepte  326670.642748\n",
      "1     sqft_living     308.527174\n",
      "2        bedrooms -134778.680310\n",
      "3       bathrooms -105451.484408\n",
      "4  bed_bath_rooms   33095.519095\n",
      "               Name         Value\n",
      "0        intercepte  1.871039e+07\n",
      "1       sqft_living  5.237447e+02\n",
      "2          bedrooms -1.577311e+04\n",
      "3         bathrooms  2.761289e+04\n",
      "4  bedrooms_squared -2.784420e+03\n",
      "5   log_sqft_living -5.637009e+05\n",
      "6     lat_plus_long  2.006008e+05\n"
     ]
    }
   ],
   "source": [
    "# Examine/extract each model's coefficients:\n",
    "for model,features in zip([ML_1,ML_2,ML_3],[ML_1_features,ML_2_features,ML_3_features]):\n",
    "    intercept = model.intercept_\n",
    "    coef = model.coef_\n",
    "    print pd.DataFrame({'Name':['intercepte']+features,'Value':[intercept]+list(coef)})"
   ]
  },
  {
   "cell_type": "markdown",
   "metadata": {},
   "source": [
    "# Multiple Models Comparison"
   ]
  },
  {
   "cell_type": "code",
   "execution_count": 17,
   "metadata": {},
   "outputs": [
    {
     "name": "stdout",
     "output_type": "stream",
     "text": [
      "967879963049546.4\n",
      "1147277494451542.5\n",
      "1068771600564960.8\n"
     ]
    }
   ],
   "source": [
    "# Find the RSS on TRAINING data for of each models:\n",
    "for model,features in zip([ML_1,ML_2,ML_3],\n",
    "                          [ML_1_features, ML_2_features,ML_3_features]):\n",
    "    print get_residual_sum_of_squares(model,train_data,\n",
    "                                      train_data['price'],features)"
   ]
  },
  {
   "cell_type": "code",
   "execution_count": 18,
   "metadata": {},
   "outputs": [
    {
     "name": "stdout",
     "output_type": "stream",
     "text": [
      "225500469795490.16\n",
      "270145596835099.22\n",
      "255230080596984.7\n"
     ]
    }
   ],
   "source": [
    "# Find the RSS on TESTING data for of each models:\n",
    "for model,features in zip([ML_1,ML_2,ML_3],\n",
    "                          [ML_1_features,ML_2_features,ML_3_features]):\n",
    "    print get_residual_sum_of_squares(model,test_data,\n",
    "                                      test_data['price'],features)"
   ]
  },
  {
   "cell_type": "code",
   "execution_count": null,
   "metadata": {},
   "outputs": [],
   "source": []
  }
 ],
 "metadata": {
  "kernelspec": {
   "display_name": "Python 2",
   "language": "python",
   "name": "python2"
  },
  "language_info": {
   "codemirror_mode": {
    "name": "ipython",
    "version": 2
   },
   "file_extension": ".py",
   "mimetype": "text/x-python",
   "name": "python",
   "nbconvert_exporter": "python",
   "pygments_lexer": "ipython2",
   "version": "2.7.15"
  }
 },
 "nbformat": 4,
 "nbformat_minor": 1
}
